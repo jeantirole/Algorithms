{
  "nbformat": 4,
  "nbformat_minor": 0,
  "metadata": {
    "colab": {
      "provenance": []
    },
    "kernelspec": {
      "name": "python3",
      "display_name": "Python 3"
    },
    "language_info": {
      "name": "python"
    }
  },
  "cells": [
    {
      "cell_type": "code",
      "execution_count": 8,
      "metadata": {
        "id": "8KcQ1AaPlBES"
      },
      "outputs": [],
      "source": [
        "# array to tree\n",
        "\n",
        "array_tree = [1,2,3,\"null\",4,5,5]"
      ]
    },
    {
      "cell_type": "code",
      "source": [
        "class Node():\n",
        "  def __init__(self,val,left=None, right=None):\n",
        "    self.val = val\n",
        "    self.left = left\n",
        "    self.right = right"
      ],
      "metadata": {
        "id": "jnllnhlOlHkc"
      },
      "execution_count": 9,
      "outputs": []
    },
    {
      "cell_type": "code",
      "source": [
        "root = Node(array_tree[0])\n",
        "que = [root]\n",
        "print(root.val)\n",
        "\n",
        "point = 0\n",
        "while que:\n",
        "  a= que.pop(0)\n",
        "\n",
        "  if (point < (len(array_tree)-1)):\n",
        "    point +=1\n",
        "    a.left = Node( array_tree[point] )\n",
        "    que.append(a.left)\n",
        "    print(a.left.val)\n",
        "\n",
        "  if (point < (len(array_tree)-1)):\n",
        "    point +=1\n",
        "    a.right = Node( array_tree[point] )\n",
        "    que.append(a.right)\n",
        "    print(a.right.val)"
      ],
      "metadata": {
        "colab": {
          "base_uri": "https://localhost:8080/"
        },
        "id": "LIJUKGwQlTXd",
        "outputId": "387a8e46-e74b-4c7f-e494-15d8dfc74cbc"
      },
      "execution_count": 15,
      "outputs": [
        {
          "output_type": "stream",
          "name": "stdout",
          "text": [
            "1\n",
            "2\n",
            "3\n",
            "null\n",
            "4\n",
            "5\n",
            "5\n"
          ]
        }
      ]
    },
    {
      "cell_type": "code",
      "source": [
        "print(root.val)\n",
        "print(root.left.val)\n",
        "print(root.right.val)\n",
        "print(root.left.left.val)"
      ],
      "metadata": {
        "colab": {
          "base_uri": "https://localhost:8080/"
        },
        "id": "i2Z69MURl-sk",
        "outputId": "61fdd7af-ecc0-4091-d079-c1520aa5ae04"
      },
      "execution_count": 17,
      "outputs": [
        {
          "output_type": "stream",
          "name": "stdout",
          "text": [
            "1\n",
            "2\n",
            "3\n",
            "null\n"
          ]
        }
      ]
    },
    {
      "cell_type": "code",
      "source": [
        "# approach 1\n",
        "# level order travels\n",
        "# que, tmp 를 swap 하면서 진행\n",
        "# tmp 를 담을 때, list reference 를 담지 않도록, 복사후에 넣어주기.\n",
        "\n",
        "que=[root]\n",
        "result = []\n",
        "tmp = []\n",
        "\n",
        "while que:\n",
        "  a = que.pop(0)\n",
        "\n",
        "  if a.left :\n",
        "    tmp.append(a.left)\n",
        "\n",
        "  if a.right :\n",
        "    tmp.append(a.right)\n",
        "\n",
        "  if len(que) == 0:\n",
        "\n",
        "    result.append(tmp[:])\n",
        "    print(\"#----------------- result : \",result)\n",
        "    que = tmp\n",
        "    tmp = [] #---> tmp 의 reference 를 초기화 시켰기 때문에 result 에 들어가 있는 tmp 마저 초기화 되어 버렸음, 따라서 앞줄의 tmp[:] 를 통해서 tmp 의 copied list 를 result에 append 해줘야함.\n",
        ""
      ],
      "metadata": {
        "colab": {
          "base_uri": "https://localhost:8080/"
        },
        "id": "iyGiVvolnbOI",
        "outputId": "8cee5187-3788-4a1d-98ed-c407b9022652"
      },
      "execution_count": 45,
      "outputs": [
        {
          "output_type": "stream",
          "name": "stdout",
          "text": [
            "tmp [<__main__.Node object at 0x7b5e5abb6470>, <__main__.Node object at 0x7b5e4c671bd0>]\n",
            "len(que) :  0\n",
            "#----------------- result :  [[<__main__.Node object at 0x7b5e5abb6470>, <__main__.Node object at 0x7b5e4c671bd0>]]\n",
            "tmp [<__main__.Node object at 0x7b5e4c6739d0>, <__main__.Node object at 0x7b5e4c670d90>]\n",
            "len(que) :  1\n",
            "tmp [<__main__.Node object at 0x7b5e4c6739d0>, <__main__.Node object at 0x7b5e4c670d90>, <__main__.Node object at 0x7b5e4c670700>, <__main__.Node object at 0x7b5e4c671150>]\n",
            "len(que) :  0\n",
            "#----------------- result :  [[<__main__.Node object at 0x7b5e5abb6470>, <__main__.Node object at 0x7b5e4c671bd0>], [<__main__.Node object at 0x7b5e4c6739d0>, <__main__.Node object at 0x7b5e4c670d90>, <__main__.Node object at 0x7b5e4c670700>, <__main__.Node object at 0x7b5e4c671150>]]\n",
            "tmp []\n",
            "len(que) :  3\n",
            "tmp []\n",
            "len(que) :  2\n",
            "tmp []\n",
            "len(que) :  1\n",
            "tmp []\n",
            "len(que) :  0\n",
            "#----------------- result :  [[<__main__.Node object at 0x7b5e5abb6470>, <__main__.Node object at 0x7b5e4c671bd0>], [<__main__.Node object at 0x7b5e4c6739d0>, <__main__.Node object at 0x7b5e4c670d90>, <__main__.Node object at 0x7b5e4c670700>, <__main__.Node object at 0x7b5e4c671150>], []]\n"
          ]
        }
      ]
    },
    {
      "cell_type": "code",
      "source": [
        "result[1][0].val, result[1][1].val"
      ],
      "metadata": {
        "colab": {
          "base_uri": "https://localhost:8080/"
        },
        "id": "z1Xk4t_r1D6Y",
        "outputId": "2d89952f-7d73-4fa6-9849-024689d82f76"
      },
      "execution_count": 49,
      "outputs": [
        {
          "output_type": "execute_result",
          "data": {
            "text/plain": [
              "('null', 4)"
            ]
          },
          "metadata": {},
          "execution_count": 49
        }
      ]
    },
    {
      "cell_type": "code",
      "source": [
        "result"
      ],
      "metadata": {
        "colab": {
          "base_uri": "https://localhost:8080/"
        },
        "id": "U8j99PWE07LQ",
        "outputId": "92b1a7b6-5f2c-4b04-d83f-8c02e742fba3"
      },
      "execution_count": 44,
      "outputs": [
        {
          "output_type": "execute_result",
          "data": {
            "text/plain": [
              "[[<__main__.Node at 0x7b5e5abb6470>, <__main__.Node at 0x7b5e4c671bd0>],\n",
              " [<__main__.Node at 0x7b5e4c6739d0>,\n",
              "  <__main__.Node at 0x7b5e4c670d90>,\n",
              "  <__main__.Node at 0x7b5e4c670700>,\n",
              "  <__main__.Node at 0x7b5e4c671150>],\n",
              " []]"
            ]
          },
          "metadata": {},
          "execution_count": 44
        }
      ]
    },
    {
      "cell_type": "code",
      "source": [
        "# approach 2\n",
        "# level order travels\n",
        "# que 에서 level_size 를 얻어내고, level size 만큼을 iteration 하여서 tmp 에 current level node 들을 담는다.\n",
        "\n",
        "def levelOrderTraversal(root):\n",
        "    if not root:\n",
        "        return []\n",
        "\n",
        "    que = [root]\n",
        "    result = []\n",
        "\n",
        "    while que:\n",
        "        level_size = len(que)\n",
        "        tmp = []\n",
        "\n",
        "        for _ in range(level_size): # que 에 들어가 있는 node 의 숫자만큼을\n",
        "            node = que.pop(0)\n",
        "            tmp.append(node.val) # tmp 는 curren level node 를 넣는다.\n",
        "\n",
        "            if node.left:\n",
        "                que.append(node.left) # que 에는 next level node 를 넣는다.\n",
        "            if node.right:\n",
        "                que.append(node.right)\n",
        "\n",
        "        result.append(tmp)\n",
        "\n",
        "    return result\n"
      ],
      "metadata": {
        "id": "nfyoNvjvvuvL"
      },
      "execution_count": 38,
      "outputs": []
    },
    {
      "cell_type": "code",
      "source": [
        "q = levelOrderTraversal(root)"
      ],
      "metadata": {
        "id": "xyPpwakqz8eX"
      },
      "execution_count": 39,
      "outputs": []
    },
    {
      "cell_type": "code",
      "source": [
        "q"
      ],
      "metadata": {
        "colab": {
          "base_uri": "https://localhost:8080/"
        },
        "id": "oQHZzJ34z_5i",
        "outputId": "8840dd4f-3bb1-40d6-97f1-f64e3944ee43"
      },
      "execution_count": 40,
      "outputs": [
        {
          "output_type": "execute_result",
          "data": {
            "text/plain": [
              "[[1], [2, 3], ['null', 4, 5, 5]]"
            ]
          },
          "metadata": {},
          "execution_count": 40
        }
      ]
    }
  ]
}