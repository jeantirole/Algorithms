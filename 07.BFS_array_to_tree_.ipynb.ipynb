{
 "cells": [
  {
   "cell_type": "code",
   "execution_count": 63,
   "metadata": {},
   "outputs": [],
   "source": [
    "# Array to TreeNode\n",
    "\n",
    "class TreeNode:\n",
    "    def __init__(self, val=0, left=None, right=None):\n",
    "        self.val = val\n",
    "        self.left = left\n",
    "        self.right = right\n",
    "\n",
    "def array_to_tree(nums):\n",
    "    if not nums:\n",
    "        return None\n",
    "    \n",
    "    root = TreeNode(nums[0])\n",
    "    queue = [root]\n",
    "    i = 1\n",
    "    \n",
    "    while queue:\n",
    "        node = queue.pop(0)\n",
    "        if i < len(nums) and nums[i] is not None:\n",
    "            node.left = TreeNode(nums[i])\n",
    "            queue.append(node.left)\n",
    "        i += 1\n",
    "        if i < len(nums) and nums[i] is not None:\n",
    "            node.right = TreeNode(nums[i])\n",
    "            queue.append(node.right)\n",
    "        i += 1\n",
    "    \n",
    "    return root\n",
    "\n",
    "# Example usage:\n",
    "root = [1,2,2,3,4,4,3]\n",
    "tree_root = array_to_tree(root)\n"
   ]
  },
  {
   "cell_type": "code",
   "execution_count": 64,
   "metadata": {},
   "outputs": [
    {
     "data": {
      "text/plain": [
       "(1, 2, 2)"
      ]
     },
     "execution_count": 64,
     "metadata": {},
     "output_type": "execute_result"
    }
   ],
   "source": [
    "tree_root.val, tree_root.left.val, tree_root.right.val"
   ]
  },
  {
   "cell_type": "code",
   "execution_count": 65,
   "metadata": {},
   "outputs": [
    {
     "data": {
      "text/plain": [
       "3"
      ]
     },
     "execution_count": 65,
     "metadata": {},
     "output_type": "execute_result"
    }
   ],
   "source": [
    "tree_root.left.left.val"
   ]
  },
  {
   "cell_type": "code",
   "execution_count": 66,
   "metadata": {},
   "outputs": [
    {
     "name": "stdout",
     "output_type": "stream",
     "text": [
      "Root: 1\n",
      "    L-- 2\n",
      "        L-- 4\n",
      "        R-- 5\n",
      "    R-- 3\n",
      "        L-- 6\n",
      "        R-- 7\n"
     ]
    }
   ],
   "source": [
    "def display_tree(root, level=0, prefix=\"Root: \"):\n",
    "    if root is not None:\n",
    "        print(\" \" * (level * 4) + prefix + str(root.val))\n",
    "        if root.left is not None or root.right is not None:\n",
    "            display_tree(root.left, level + 1, \"L-- \")\n",
    "            display_tree(root.right, level + 1, \"R-- \")\n",
    "\n",
    "# Example usage:\n",
    "root = TreeNode(1)\n",
    "root.left = TreeNode(2)\n",
    "root.right = TreeNode(3)\n",
    "root.left.left = TreeNode(4)\n",
    "root.left.right = TreeNode(5)\n",
    "root.right.left = TreeNode(6)\n",
    "root.right.right = TreeNode(7)\n",
    "\n",
    "display_tree(root)"
   ]
  },
  {
   "cell_type": "code",
   "execution_count": 67,
   "metadata": {},
   "outputs": [
    {
     "name": "stdout",
     "output_type": "stream",
     "text": [
      "Root: 1\n",
      "    L-- 2\n",
      "        L-- 3\n",
      "        R-- 4\n",
      "    R-- 2\n",
      "        L-- 4\n",
      "        R-- 3\n"
     ]
    }
   ],
   "source": [
    "display_tree(tree_root)"
   ]
  },
  {
   "cell_type": "code",
   "execution_count": 68,
   "metadata": {},
   "outputs": [
    {
     "data": {
      "text/plain": [
       "3"
      ]
     },
     "execution_count": 68,
     "metadata": {},
     "output_type": "execute_result"
    }
   ],
   "source": [
    "tree_root.left.left.val"
   ]
  },
  {
   "cell_type": "code",
   "execution_count": 82,
   "metadata": {},
   "outputs": [
    {
     "name": "stdout",
     "output_type": "stream",
     "text": [
      "0\n",
      "2\n",
      "6\n",
      "14\n",
      "30\n",
      "62\n",
      "126\n",
      "254\n",
      "510\n",
      "1022\n",
      "2046\n",
      "4094\n",
      "8190\n",
      "16382\n",
      "32766\n",
      "65534\n",
      "131070\n",
      "262142\n",
      "524286\n",
      "1048574\n",
      "2097150\n",
      "4194302\n",
      "8388606\n",
      "16777214\n",
      "33554430\n",
      "67108862\n",
      "134217726\n",
      "268435454\n",
      "536870910\n",
      "1073741822\n",
      "2147483646\n",
      "4294967294\n",
      "8589934590\n",
      "17179869182\n",
      "34359738366\n",
      "68719476734\n",
      "137438953470\n",
      "274877906942\n",
      "549755813886\n",
      "1099511627774\n",
      "2199023255550\n",
      "4398046511102\n",
      "8796093022206\n",
      "17592186044414\n",
      "35184372088830\n",
      "70368744177662\n",
      "140737488355326\n",
      "281474976710654\n",
      "562949953421310\n",
      "1125899906842622\n",
      "2251799813685246\n",
      "4503599627370494\n",
      "9007199254740990\n",
      "18014398509481982\n",
      "36028797018963966\n",
      "72057594037927934\n",
      "144115188075855870\n",
      "288230376151711742\n",
      "576460752303423486\n",
      "1152921504606846974\n",
      "2305843009213693950\n",
      "4611686018427387902\n",
      "9223372036854775806\n",
      "18446744073709551614\n",
      "36893488147419103230\n",
      "73786976294838206462\n",
      "147573952589676412926\n",
      "295147905179352825854\n",
      "590295810358705651710\n",
      "1180591620717411303422\n",
      "2361183241434822606846\n",
      "4722366482869645213694\n",
      "9444732965739290427390\n",
      "18889465931478580854782\n",
      "37778931862957161709566\n",
      "75557863725914323419134\n",
      "151115727451828646838270\n",
      "302231454903657293676542\n",
      "604462909807314587353086\n",
      "1208925819614629174706174\n",
      "2417851639229258349412350\n",
      "4835703278458516698824702\n",
      "9671406556917033397649406\n",
      "19342813113834066795298814\n",
      "38685626227668133590597630\n",
      "77371252455336267181195262\n",
      "154742504910672534362390526\n",
      "309485009821345068724781054\n",
      "618970019642690137449562110\n",
      "1237940039285380274899124222\n",
      "2475880078570760549798248446\n",
      "4951760157141521099596496894\n",
      "9903520314283042199192993790\n",
      "19807040628566084398385987582\n",
      "39614081257132168796771975166\n",
      "79228162514264337593543950334\n",
      "158456325028528675187087900670\n",
      "316912650057057350374175801342\n",
      "633825300114114700748351602686\n",
      "1267650600228229401496703205374\n"
     ]
    }
   ],
   "source": [
    "# levels \n",
    "# sigma( 2^n )\n",
    "max_l = 100\n",
    "\n",
    "for k in range(max_l):\n",
    "    q_ = [2**i for i in range(1,max_l)][0:k]\n",
    "    #print(q_)\n",
    "    print(sum(q_))\n",
    "\n",
    "D = {k : v for k,v in enumerate(q_)}"
   ]
  },
  {
   "cell_type": "code",
   "execution_count": 88,
   "metadata": {},
   "outputs": [
    {
     "name": "stdout",
     "output_type": "stream",
     "text": [
      "1 order :  1 level :  0\n",
      "2 order :  2 level :  1\n",
      "2 order :  3 level :  1\n",
      "3 order :  4 level :  2\n",
      "4 order :  5 level :  2\n",
      "4 order :  6 level :  2\n",
      "3 order :  7 level :  2\n"
     ]
    }
   ],
   "source": [
    "# DFS \n",
    "\n",
    "# no need to check visit \n",
    "que_= [tree_root]\n",
    "\n",
    "cnt= 0\n",
    "while que_:\n",
    "\n",
    "    a = que_.pop(0)\n",
    "    cnt+=1\n",
    "    #print(a.val, \"order\", cnt)\n",
    "    for k,v in D.items():\n",
    "        if v > cnt:\n",
    "            print(a.val, \"order : \", cnt, \"level : \", k)\n",
    "            break          \n",
    "    \n",
    "    if a.left is not None:\n",
    "        que_.append(a.left)\n",
    "    \n",
    "    if a.right is not None:\n",
    "        que_.append(a.right)\n"
   ]
  }
 ],
 "metadata": {
  "kernelspec": {
   "display_name": "8.tmp",
   "language": "python",
   "name": "python3"
  },
  "language_info": {
   "codemirror_mode": {
    "name": "ipython",
    "version": 3
   },
   "file_extension": ".py",
   "mimetype": "text/x-python",
   "name": "python",
   "nbconvert_exporter": "python",
   "pygments_lexer": "ipython3",
   "version": "3.8.17"
  }
 },
 "nbformat": 4,
 "nbformat_minor": 2
}
